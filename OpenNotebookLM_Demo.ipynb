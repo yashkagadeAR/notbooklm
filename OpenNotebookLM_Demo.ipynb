{
 "cells": [
  {
   "cell_type": "markdown",
   "id": "0499b16b",
   "metadata": {},
   "source": [
    "# OpenNotebookLM Demo\n",
    "\n",
    "This notebook demonstrates a workflow similar to Google NotebookLM, including document ingestion, data analysis, and machine learning model building. Each section guides you through the process, from importing libraries to visualizing results."
   ]
  },
  {
   "cell_type": "markdown",
   "id": "a0da9e59",
   "metadata": {},
   "source": [
    "## 1. Import Essential Libraries\n",
    "\n",
    "Import libraries for data analysis, visualization, and machine learning."
   ]
  },
  {
   "cell_type": "code",
   "execution_count": null,
   "id": "ac097130",
   "metadata": {},
   "outputs": [],
   "source": [
    "# Import libraries for data analysis and machine learning\n",
    "import pandas as pd\n",
    "import numpy as np\n",
    "import matplotlib.pyplot as plt\n",
    "import seaborn as sns\n",
    "from sklearn.model_selection import train_test_split\n",
    "from sklearn.ensemble import RandomForestClassifier\n",
    "from sklearn.metrics import accuracy_score, confusion_matrix, classification_report"
   ]
  },
  {
   "cell_type": "markdown",
   "id": "e812fea2",
   "metadata": {},
   "source": [
    "## 2. Load and Explore Dataset\n",
    "\n",
    "Load a sample dataset and explore its structure, statistics, and visualizations."
   ]
  },
  {
   "cell_type": "code",
   "execution_count": null,
   "id": "f5bada89",
   "metadata": {},
   "outputs": [],
   "source": [
    "# Load the Iris dataset from scikit-learn\n",
    "from sklearn.datasets import load_iris\n",
    "iris = load_iris()\n",
    "df = pd.DataFrame(data=iris.data, columns=iris.feature_names)\n",
    "df['target'] = iris.target\n",
    "df.head()"
   ]
  },
  {
   "cell_type": "code",
   "execution_count": null,
   "id": "1294afc3",
   "metadata": {},
   "outputs": [],
   "source": [
    "# Show dataset shape and basic statistics\n",
    "print('Shape:', df.shape)\n",
    "print(df.describe())"
   ]
  },
  {
   "cell_type": "code",
   "execution_count": null,
   "id": "d8a43047",
   "metadata": {},
   "outputs": [],
   "source": [
    "# Visualize feature distributions\n",
    "sns.pairplot(df, hue='target')\n",
    "plt.show()"
   ]
  },
  {
   "cell_type": "markdown",
   "id": "02523011",
   "metadata": {},
   "source": [
    "## 3. Data Preprocessing\n",
    "\n",
    "Prepare the data for modeling: clean, encode, and split into training and testing sets."
   ]
  },
  {
   "cell_type": "code",
   "execution_count": null,
   "id": "48891974",
   "metadata": {},
   "outputs": [],
   "source": [
    "# Check for missing values\n",
    "print(df.isnull().sum())"
   ]
  },
  {
   "cell_type": "code",
   "execution_count": null,
   "id": "649cda52",
   "metadata": {},
   "outputs": [],
   "source": [
    "# Split dataset into features and target\n",
    "X = df.drop('target', axis=1)\n",
    "y = df['target']\n",
    "X_train, X_test, y_train, y_test = train_test_split(X, y, test_size=0.2, random_state=42)"
   ]
  },
  {
   "cell_type": "markdown",
   "id": "6f1e993c",
   "metadata": {},
   "source": [
    "## 4. Build and Train a Machine Learning Model\n",
    "\n",
    "Train a Random Forest classifier on the training data and display training progress."
   ]
  },
  {
   "cell_type": "code",
   "execution_count": null,
   "id": "e2bf2f28",
   "metadata": {},
   "outputs": [],
   "source": [
    "# Train Random Forest classifier\n",
    "model = RandomForestClassifier(n_estimators=100, random_state=42)\n",
    "model.fit(X_train, y_train)\n",
    "print('Training complete.')"
   ]
  },
  {
   "cell_type": "markdown",
   "id": "e2ba4c2c",
   "metadata": {},
   "source": [
    "## 5. Evaluate Model Performance\n",
    "\n",
    "Assess the trained model using accuracy, confusion matrix, and classification report."
   ]
  },
  {
   "cell_type": "code",
   "execution_count": null,
   "id": "c4133c8d",
   "metadata": {},
   "outputs": [],
   "source": [
    "# Predict on test set\n",
    "y_pred = model.predict(X_test)\n",
    "acc = accuracy_score(y_test, y_pred)\n",
    "print(f'Accuracy: {acc:.2f}')\n",
    "print('Confusion Matrix:')\n",
    "print(confusion_matrix(y_test, y_pred))\n",
    "print('Classification Report:')\n",
    "print(classification_report(y_test, y_pred))"
   ]
  },
  {
   "cell_type": "markdown",
   "id": "76875f4f",
   "metadata": {},
   "source": [
    "## 6. Generate Predictions\n",
    "\n",
    "Use the trained model to make predictions and display sample outputs."
   ]
  },
  {
   "cell_type": "code",
   "execution_count": null,
   "id": "aba188a6",
   "metadata": {},
   "outputs": [],
   "source": [
    "# Show sample predictions vs actual\n",
    "results = pd.DataFrame({'Actual': y_test, 'Predicted': y_pred})\n",
    "print(results.head())"
   ]
  },
  {
   "cell_type": "markdown",
   "id": "5ba86df8",
   "metadata": {},
   "source": [
    "## 7. Visualize Results\n",
    "\n",
    "Create plots to visualize model performance, such as confusion matrix and prediction vs actual values."
   ]
  },
  {
   "cell_type": "code",
   "execution_count": null,
   "id": "77a583b1",
   "metadata": {},
   "outputs": [],
   "source": [
    "# Plot confusion matrix\n",
    "cm = confusion_matrix(y_test, y_pred)\n",
    "sns.heatmap(cm, annot=True, fmt='d', cmap='Blues')\n",
    "plt.xlabel('Predicted')\n",
    "plt.ylabel('Actual')\n",
    "plt.title('Confusion Matrix')\n",
    "plt.show()"
   ]
  },
  {
   "cell_type": "code",
   "execution_count": null,
   "id": "803cfdbf",
   "metadata": {},
   "outputs": [],
   "source": [
    "# Plot prediction vs actual values\n",
    "plt.scatter(y_test, y_pred)\n",
    "plt.xlabel('Actual')\n",
    "plt.ylabel('Predicted')\n",
    "plt.title('Prediction vs Actual')\n",
    "plt.show()"
   ]
  }
 ],
 "metadata": {
  "language_info": {
   "name": "python"
  }
 },
 "nbformat": 4,
 "nbformat_minor": 5
}
